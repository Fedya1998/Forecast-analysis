{
 "cells": [
  {
   "cell_type": "code",
   "execution_count": 234,
   "metadata": {
    "collapsed": true
   },
   "outputs": [],
   "source": [
    "import numpy as np\n",
    "import pandas as pd\n",
    "import urllib2, urllib, json\n",
    "from datetime import date, timedelta, time"
   ]
  },
  {
   "cell_type": "code",
   "execution_count": 175,
   "metadata": {
    "collapsed": true
   },
   "outputs": [],
   "source": [
    "class Distributor:\n",
    "    BETA = 0.5\n",
    "    \n",
    "    def __init__(self, N):\n",
    "        self.weights = np.ones((1, N))[0]\n",
    "        self.N = N\n",
    "    \n",
    "    def recalc_weights(self, losses):\n",
    "        for i in range(self.N):\n",
    "            self.weights[i] *= self.BETA ** losses[i]\n",
    "    def calc_probs(self):\n",
    "        norm = sum(self.weights)\n",
    "        return map(lambda x: x / norm, self.weights)"
   ]
  },
  {
   "cell_type": "code",
   "execution_count": 176,
   "metadata": {
    "collapsed": true
   },
   "outputs": [],
   "source": [
    "class Weather:\n",
    "    yahoo = Yahoo()\n",
    "    wun = Wunderweather()\n",
    "    \n",
    "    experts = [yahoo, wun]\n",
    "    \n",
    "    def predict(self):            \n",
    "        return [expert.predict() for expert in experts]\n",
    "    \n",
    "    def calc_losses(self, predictions):\n",
    "        return map(lambda x: abs(x-self.find_truth()), predictions)\n",
    "    \n",
    "    def find_the_truth(self):\n",
    "        self.wun."
   ]
  },
  {
   "cell_type": "code",
   "execution_count": 170,
   "metadata": {
    "collapsed": true
   },
   "outputs": [],
   "source": [
    "def play_with_me(N):\n",
    "    superman = Distributor(N)\n",
    "    weather = Weather()\n",
    "    \n",
    "    if (time)\n",
    "        predictions = experts.predict()\n",
    "        \n",
    "        weather.save_predictions(predictions)\n",
    "        \n",
    "        my_answer = analyze_experts(predictions, superman.weights)\n",
    "        \n",
    "        truth = weather.find_the_truth()\n",
    "        \n",
    "        save_my_loss(abs(truth - my_answer))\n",
    "        \n",
    "        weights = recalc_weights(weather.calc_losses(predictions))"
   ]
  },
  {
   "cell_type": "code",
   "execution_count": 171,
   "metadata": {
    "collapsed": true
   },
   "outputs": [],
   "source": [
    "class Yahoo:\n",
    "    \n",
    "    def get_data(self):\n",
    "        baseurl = \"https://query.yahooapis.com/v1/public/yql?\"\n",
    "        yql_query = \"select item from weather.forecast where woeid=2122265\"\n",
    "        yql_url = baseurl + urllib.urlencode({'q':yql_query}) + \"&format=json\"\n",
    "        result = urllib2.urlopen(yql_url).read()\n",
    "        data = json.loads(result)['query']['results']['channel']['item']\n",
    "        \n",
    "        self.current_temp = float(data['condition']['temp'])\n",
    "        forecast = data['forecast'][1]\n",
    "        self.tomorrow_temp = (float(forecast['low']), float(forecast['high']))\n",
    "        \n",
    "        # print forecast\n",
    "    def predict(self):\n",
    "        self.get_data()\n",
    "        return self.tomorrow_temp[1]\n",
    "        "
   ]
  },
  {
   "cell_type": "code",
   "execution_count": 260,
   "metadata": {
    "collapsed": true
   },
   "outputs": [],
   "source": [
    "class Wunderweather:\n",
    "    def get_data(self):\n",
    "        f = urllib2.urlopen('http://api.wunderground.com/api/d3b5ad73a85ed802/geolookup/conditions/q/ru/moscow.json')\n",
    "        json_string = f.read()\n",
    "        parsed_json = json.loads(json_string)\n",
    "        # print parsed_json\n",
    "        location = parsed_json['location']['city']\n",
    "        temp_f = parsed_json['current_observation']['temp_f']\n",
    "        print \"Current temperature in %s is: %s\" % (location, temp_f)\n",
    "        self.current_temp = float(temp_f)\n",
    "        \n",
    "        f = urllib2.urlopen('http://api.wunderground.com/api/d3b5ad73a85ed802/forecast/q/ru/moscow.json')\n",
    "        json_string = f.read()\n",
    "        parsed_json = json.loads(json_string)\n",
    "    \n",
    "        \n",
    "        tomorrow_temp = parsed_json['forecast']['simpleforecast']['forecastday'][1]\n",
    "        self.tomorrow_temp = (float(tomorrow_temp['low']['fahrenheit']), float(tomorrow_temp['high']['fahrenheit']))\n",
    "        \n",
    "        \n",
    "        yesterday = date.today() - timedelta(days=1)\n",
    "\n",
    "        f = urllib2.urlopen('http://api.wunderground.com/api/d3b5ad73a85ed802/history_' \n",
    "                            + str(yesterday).replace('-', '')\n",
    "                            + '/q/ru/moscow.json')\n",
    "        json_string = f.read()\n",
    "        parsed_json = json.loads(json_string)\n",
    "        self.maxtemp_yesterday = float(parsed_json['history']['dailysummary'][0]['maxtempi'])\n",
    "    \n",
    "    def predict(self):\n",
    "        self.get_data()\n",
    "        return self.tomorrow_temp[1]"
   ]
  },
  {
   "cell_type": "code",
   "execution_count": 261,
   "metadata": {},
   "outputs": [
    {
     "data": {
      "text/plain": [
       "(45.0, (29.0, 51.0))"
      ]
     },
     "execution_count": 261,
     "metadata": {},
     "output_type": "execute_result"
    }
   ],
   "source": [
    "ya = Yahoo()\n",
    "ya.get_data()\n",
    "ya.current_temp, ya.tomorrow_temp"
   ]
  },
  {
   "cell_type": "code",
   "execution_count": 262,
   "metadata": {
    "scrolled": false
   },
   "outputs": [
    {
     "name": "stdout",
     "output_type": "stream",
     "text": [
      "Current temperature in Moscow is: 42.8\n"
     ]
    },
    {
     "data": {
      "text/plain": [
       "68.0"
      ]
     },
     "execution_count": 262,
     "metadata": {},
     "output_type": "execute_result"
    }
   ],
   "source": [
    "wun = Wunderweather()\n",
    "wun.get_data()\n",
    "wun.maxtemp_yesterday"
   ]
  },
  {
   "cell_type": "code",
   "execution_count": 270,
   "metadata": {},
   "outputs": [
    {
     "data": {
      "text/plain": [
       "'Wed Apr 11 22:51:44 2018'"
      ]
     },
     "execution_count": 270,
     "metadata": {},
     "output_type": "execute_result"
    }
   ],
   "source": [
    "time.asctime()"
   ]
  },
  {
   "cell_type": "code",
   "execution_count": null,
   "metadata": {
    "collapsed": true
   },
   "outputs": [],
   "source": []
  }
 ],
 "metadata": {
  "kernelspec": {
   "display_name": "Python 2",
   "language": "python",
   "name": "python2"
  },
  "language_info": {
   "codemirror_mode": {
    "name": "ipython",
    "version": 2
   },
   "file_extension": ".py",
   "mimetype": "text/x-python",
   "name": "python",
   "nbconvert_exporter": "python",
   "pygments_lexer": "ipython2",
   "version": "2.7.13"
  }
 },
 "nbformat": 4,
 "nbformat_minor": 2
}
