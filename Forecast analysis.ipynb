{
 "cells": [
  {
   "cell_type": "code",
   "execution_count": 1,
   "metadata": {
    "collapsed": true
   },
   "outputs": [],
   "source": [
    "import numpy as np\n",
    "import pandas as pd\n",
    "import urllib2, urllib, json\n",
    "from datetime import date, timedelta, time"
   ]
  },
  {
   "cell_type": "code",
   "execution_count": 2,
   "metadata": {
    "collapsed": true
   },
   "outputs": [],
   "source": [
    "class Yahoo:\n",
    "    \n",
    "    def get_data(self):\n",
    "        baseurl = \"https://query.yahooapis.com/v1/public/yql?\"\n",
    "        yql_query = \"select item from weather.forecast where woeid=2122265\"\n",
    "        yql_url = baseurl + urllib.urlencode({'q':yql_query}) + \"&format=json\"\n",
    "        result = urllib2.urlopen(yql_url).read()\n",
    "        data = json.loads(result)['query']['results']['channel']['item']\n",
    "        \n",
    "        self.current_temp = float(data['condition']['temp'])\n",
    "        forecast = data['forecast'][1]\n",
    "        self.tomorrow_temp = (float(forecast['low']), float(forecast['high']))\n",
    "        \n",
    "        # print forecast\n",
    "    def predict(self):\n",
    "        self.get_data()\n",
    "        return self.tomorrow_temp[1]\n",
    "        "
   ]
  },
  {
   "cell_type": "code",
   "execution_count": 3,
   "metadata": {
    "collapsed": true
   },
   "outputs": [],
   "source": [
    "class Wunderweather:\n",
    "    def get_data(self):\n",
    "        f = urllib2.urlopen('http://api.wunderground.com/api/d3b5ad73a85ed802/geolookup/conditions/q/ru/moscow.json')\n",
    "        json_string = f.read()\n",
    "        parsed_json = json.loads(json_string)\n",
    "        # print parsed_json\n",
    "        location = parsed_json['location']['city']\n",
    "        temp_f = parsed_json['current_observation']['temp_f']\n",
    "        print \"Current temperature in %s is: %s\" % (location, temp_f)\n",
    "        self.current_temp = float(temp_f)\n",
    "        \n",
    "        f = urllib2.urlopen('http://api.wunderground.com/api/d3b5ad73a85ed802/forecast/q/ru/moscow.json')\n",
    "        json_string = f.read()\n",
    "        parsed_json = json.loads(json_string)\n",
    "    \n",
    "        \n",
    "        tomorrow_temp = parsed_json['forecast']['simpleforecast']['forecastday'][1]\n",
    "        self.tomorrow_temp = (float(tomorrow_temp['low']['fahrenheit']), float(tomorrow_temp['high']['fahrenheit']))\n",
    "        \n",
    "        \n",
    "        yesterday = date.today() - timedelta(days=1)\n",
    "\n",
    "        f = urllib2.urlopen('http://api.wunderground.com/api/d3b5ad73a85ed802/history_' \n",
    "                            + str(yesterday).replace('-', '')\n",
    "                            + '/q/ru/moscow.json')\n",
    "        json_string = f.read()\n",
    "        parsed_json = json.loads(json_string)\n",
    "        self.maxtemp_yesterday = float(parsed_json['history']['dailysummary'][0]['maxtempi'])\n",
    "    \n",
    "    def predict(self):\n",
    "        self.get_data()\n",
    "        return self.tomorrow_temp[1]"
   ]
  },
  {
   "cell_type": "code",
   "execution_count": 4,
   "metadata": {},
   "outputs": [],
   "source": [
    "class Weather:\n",
    "    yahoo = Yahoo()\n",
    "    wun = Wunderweather()\n",
    "    \n",
    "    experts = [yahoo, wun]\n",
    "    \n",
    "    def predict(self):            \n",
    "        return [expert.predict() for expert in experts]\n",
    "    \n",
    "    def calc_losses(self, predictions):\n",
    "        return map(lambda x: abs(x-self.find_truth()), predictions)\n",
    "    \n",
    "    def find_the_truth(self):\n",
    "        return self.wun.maxtemp_yesterday\n",
    "    \n",
    "    def save_predictions(predictions):\n",
    "        with open(\"predictions.txt\", \"w\") as f:\n",
    "            for prediction in predictions:\n",
    "                f.write(\"%s\\n\" % str(prediction))\n",
    "                \n",
    "    def load_old_predictions():\n",
    "        with open('predictions.txt', 'r') as f:\n",
    "            lines = f.readlines()\n",
    "            predictions = [float(line.strip()) for line in lines]\n",
    "        return predictions"
   ]
  },
  {
   "cell_type": "code",
   "execution_count": 5,
   "metadata": {
    "collapsed": true
   },
   "outputs": [],
   "source": [
    "def save_my_answer(value):\n",
    "    with open(\"my_answers.txt\", \"a\") as f:\n",
    "        f.write(value)\n",
    "\n",
    "def save_the_truth(value):\n",
    "    with open(\"true_answers.txt\", \"a\") as f:\n",
    "        f.write(value)"
   ]
  },
  {
   "cell_type": "code",
   "execution_count": 6,
   "metadata": {
    "collapsed": true
   },
   "outputs": [],
   "source": [
    "def play_with_me(N):\n",
    "    superman = Distributor(N)\n",
    "    weather = Weather()\n",
    "    \n",
    "    print(\"Are you an adequate guy? Start this only 1 time per day, I have no time to add a verifyer\")\n",
    "    \n",
    "    if (input == 'no'): # Wait for midday! The best time to start this infernal mechanism!\n",
    "        \n",
    "        predictions = experts.predict()\n",
    "        \n",
    "        weather.save_predictions(predictions)\n",
    "        \n",
    "        my_answer = superman.analyze_experts(predictions)\n",
    "        \n",
    "        truth = weather.find_the_truth()\n",
    "        \n",
    "        save_my_answer(my_answer)\n",
    "        \n",
    "        save_the_truth(truth)\n",
    "        \n",
    "        old_predictions = weather.load_old_predictions()\n",
    "        \n",
    "        weather.save_weights(recalc_weights(weather.calc_losses(old_predictions)))"
   ]
  },
  {
   "cell_type": "code",
   "execution_count": 7,
   "metadata": {
    "collapsed": true
   },
   "outputs": [],
   "source": [
    "class Distributor:\n",
    "    BETA = 0.5\n",
    "    \n",
    "    def __init__(self, N):\n",
    "        try:\n",
    "            with open('weights.txt', 'r') as f:\n",
    "                lines = f.readlines()\n",
    "                self.weights =[float(line.strip()) for line in lines]\n",
    "        except:\n",
    "            self.weights = np.ones((1, N))[0]\n",
    "    \n",
    "    def recalc_weights(self, losses):\n",
    "        for i in range(self.N):\n",
    "            self.weights[i] *= self.BETA ** losses[i]\n",
    "            \n",
    "    def calc_probs(self):\n",
    "        norm = sum(self.weights)\n",
    "        return map(lambda x: x / norm, self.weights)\n",
    "    \n",
    "    def save_weights(weights):\n",
    "        with open(\"weights.txt\", \"w\") as f:\n",
    "            for weight in weights:\n",
    "                f.write(\"%s\\n\" % str(weight))"
   ]
  },
  {
   "cell_type": "code",
   "execution_count": 8,
   "metadata": {},
   "outputs": [
    {
     "data": {
      "text/plain": [
       "(36.0, (34.0, 60.0))"
      ]
     },
     "execution_count": 8,
     "metadata": {},
     "output_type": "execute_result"
    }
   ],
   "source": [
    "ya = Yahoo()\n",
    "ya.get_data()\n",
    "ya.current_temp, ya.tomorrow_temp"
   ]
  },
  {
   "cell_type": "code",
   "execution_count": 9,
   "metadata": {
    "scrolled": false
   },
   "outputs": [
    {
     "name": "stdout",
     "output_type": "stream",
     "text": [
      "Current temperature in Moscow is: 33.6\n"
     ]
    },
    {
     "data": {
      "text/plain": [
       "50.0"
      ]
     },
     "execution_count": 9,
     "metadata": {},
     "output_type": "execute_result"
    }
   ],
   "source": [
    "wun = Wunderweather()\n",
    "wun.get_data()\n",
    "wun.maxtemp_yesterday"
   ]
  },
  {
   "cell_type": "code",
   "execution_count": null,
   "metadata": {
    "collapsed": true
   },
   "outputs": [],
   "source": []
  }
 ],
 "metadata": {
  "kernelspec": {
   "display_name": "Python 2",
   "language": "python",
   "name": "python2"
  },
  "language_info": {
   "codemirror_mode": {
    "name": "ipython",
    "version": 2
   },
   "file_extension": ".py",
   "mimetype": "text/x-python",
   "name": "python",
   "nbconvert_exporter": "python",
   "pygments_lexer": "ipython2",
   "version": "2.7.13"
  }
 },
 "nbformat": 4,
 "nbformat_minor": 2
}
